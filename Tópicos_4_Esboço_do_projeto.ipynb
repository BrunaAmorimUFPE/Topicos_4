{
  "nbformat": 4,
  "nbformat_minor": 0,
  "metadata": {
    "colab": {
      "provenance": [],
      "include_colab_link": true
    },
    "kernelspec": {
      "name": "python3",
      "display_name": "Python 3"
    },
    "language_info": {
      "name": "python"
    }
  },
  "cells": [
    {
      "cell_type": "markdown",
      "metadata": {
        "id": "view-in-github",
        "colab_type": "text"
      },
      "source": [
        "<a href=\"https://colab.research.google.com/github/BrunaAmorimUFPE/Topicos_4/blob/main/T%C3%B3picos_4_Esbo%C3%A7o_do_projeto.ipynb\" target=\"_parent\"><img src=\"https://colab.research.google.com/assets/colab-badge.svg\" alt=\"Open In Colab\"/></a>"
      ]
    },
    {
      "cell_type": "code",
      "source": [
        "# Instalação da biblioteca groq\n",
        "!pip install -q -U groq\n",
        "\n",
        "# Definição da chave da API\n",
        "GROQ_API_KEY = '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'\n",
        "\n",
        "from groq import Groq"
      ],
      "metadata": {
        "id": "DoliexnywHMN"
      },
      "execution_count": 3,
      "outputs": []
    },
    {
      "cell_type": "markdown",
      "source": [
        "# Teste com Modelo Llama 3.3-70b Versatile"
      ],
      "metadata": {
        "id": "jwpNiw2xZcDq"
      }
    },
    {
      "cell_type": "code",
      "source": [
        "# Criação do cliente\n",
        "client = Groq(\n",
        "    api_key=GROQ_API_KEY,\n",
        ")\n",
        "\n",
        "# Criação da solicitação de completions\n",
        "chat_completion = client.chat.completions.create(\n",
        "    messages=[\n",
        "        {\n",
        "            \"role\": \"user\",\n",
        "            \"content\": \"Qual é o sentido da vida? Responda em português do Brasil\",\n",
        "        },\n",
        "    ],\n",
        "    temperature=1.5,\n",
        "    max_completion_tokens=1024,\n",
        "    top_p=1,\n",
        "    model=\"llama-3.3-70b-versatile\",\n",
        ")\n",
        "\n",
        "# Impressão do resultado\n",
        "print(chat_completion.choices[0].message.content)"
      ],
      "metadata": {
        "id": "4Kgu_XV3wE5s",
        "colab": {
          "base_uri": "https://localhost:8080/"
        },
        "outputId": "a47e097b-ce38-4abf-f975-f006ff1e76f2"
      },
      "execution_count": 17,
      "outputs": [
        {
          "output_type": "stream",
          "name": "stdout",
          "text": [
            "Que pergunta profunda e complexa! O sentido da vida é um tema que tem intrigado seres humanos ao longo da história, e não há uma resposta única ou definitiva. No entanto, posso oferecer algumas perspectivas e insights para refletir sobre essa questão.\n",
            "\n",
            "Em primeiro lugar, é importante reconhecer que o sentido da vida é pessoal e subjetivo. O que dá significado e propósito à vida de uma pessoa pode não ser o mesmo para outra. Alguns podem encontrar sentido em:\n",
            "\n",
            "1. **Relacionamentos**: Cultivar laços fortes com familiares, amigos e parceiros pode trazer alegria e satisfazer a necessidade humana de conexão e pertencimento.\n",
            "2. **Inovação e criatividade**: Criar algo novo, desenvolver habilidades ou resolver problemas pode dar um sentido de realização e orgulho.\n",
            "3. **Trabalho e contribuição**: Ter um papel importante no trabalho ou fazer uma contribuição positiva para a sociedade pode proporcionar um senso de propósito e realização.\n",
            "4. **Natureza e bem-estar**: Apreciar a beleza da natureza, cuidar da própria saúde e bem-estar ou se conectar com a espiritualidade pode trazer um senso de equilíbrio e prazer.\n",
            "5. **Aprendizado e crescimento**: Perseguir conhecimento, aprender coisas novas e superar desafios pode ajudar a se desenvolver e sentir-se realizado.\n",
            "\n",
            "No entanto, há perspectivas mais amplas e filosóficas sobre o sentido da vida, como:\n",
            "\n",
            "1. **Existencialismo**: A vida não tem um sentido inerente, e é função da cada um criar seu próprio significado e propósito.\n",
            "2. **Humanismo**: A vida tem valor em si mesma, e o sentido vem da experiência, do crescimento e da conexão com os outros seres humanos.\n",
            "3. **Religião e espiritualidade**: Muitas plataformas religiosas e espirituais oferecem respostas para a pergunta do sentido da vida, muitas vezes relacionadas à conexão com algo maior do que si mesmo (Deus, universo, karma, etc.).\n",
            "4. **Felicidade e bem-estar**: O sentido da vida pode ser encontrado em buscar a felicidade e o bem-estar para si mesmo e para os outros.\n",
            "\n",
            "Em resumo, o sentido da vida é um tema complexo e pessoal, e não há uma resposta única ou definitiva. É importante explorar diferentes perspectivas, encontrar o que dá significado e propósito à sua vida e cultivar relações, habilidades e experiências que tejam VALIOSAS, e fazer choices con tu persona e interior!\n"
          ]
        }
      ]
    },
    {
      "cell_type": "markdown",
      "source": [
        "# Teste com Modelo DeepSeek R1 Distill Qwen 32b"
      ],
      "metadata": {
        "id": "4NfrkmqIaJf3"
      }
    },
    {
      "cell_type": "code",
      "source": [
        "# Criação do cliente\n",
        "client = Groq(\n",
        "    api_key=GROQ_API_KEY,\n",
        ")\n",
        "\n",
        "# Criação da solicitação de completions\n",
        "chat_completion = client.chat.completions.create(\n",
        "    messages=[\n",
        "        {\n",
        "            \"role\": \"user\",\n",
        "            \"content\": \"Qual é o sentido da vida? Responda em português do Brasil\",\n",
        "        },\n",
        "    ],\n",
        "    temperature=2,\n",
        "    max_completion_tokens=1024,\n",
        "    top_p=1,\n",
        "    model=\"deepseek-r1-distill-qwen-32b\",\n",
        ")\n",
        "\n",
        "# Impressão do resultado\n",
        "print(chat_completion.choices[0].message.content)"
      ],
      "metadata": {
        "id": "_Tj-U2tnaHYL",
        "colab": {
          "base_uri": "https://localhost:8080/"
        },
        "outputId": "85404512-b738-4678-f4d0-46ce1b45f3e0"
      },
      "execution_count": 19,
      "outputs": [
        {
          "output_type": "stream",
          "name": "stdout",
          "text": [
            "<think>\n",
            "Oi,Usuario,fim pensear em resposta. Hum, a users asks, Qual és o-sento dele visa?I Respenojeml rortugaez dari-btr-bras, entao em-portuguse.\n",
            "\n",
            "Humm, qual e o sentindevisra...Váres opniodeste a questao.tbm to-do mundoesntácuro di respondervalgo.Essagerundeh pode:psicoagrinde,lol. e. perdedir meotucupijanss.Bene,beneditemnteliveyoursae s.\n",
            "\n",
            "Ai,cansadipeov: sento ser....hm. Sentir é descontinunense.Vinham vaidades porah e.pessoinhapóv...Bil pior?\n",
            "\n",
            "Só coa sem a ver do prnuncidarmunim por meiaqdeiss. Pode me valicou bem-responha em protugase.\n",
            "\n",
            "So sejogus a dar.un op,ion na: Sem solvia.a ser ehm.o sentodi vida tal....Meiafase despretou...Vainco un sucur em respondeta de teri respondrdo. At,per tem preto um sentioespterey mais imnpresupudus qu, maidegimes,desape!D.\n",
            "Mso omttansdo,\n",
            "\n",
            "Ou será.., mais deum, subjetva... cada me seres se opinoar!Ent,oe. Ma'sta nda.. o sentideza life?\n",
            "\n",
            "So talveZ responder, \" a pergunta-s ser do inno.a porque não foins esarres seva pro reade.\" Sem destrume mais...Seems u.nmusei jua.Rajogud me sona a responar de mane r a acelera, bem claram e imajinalte.Sabers...\n",
            "\n",
            "So..,e uma varivdade depthoriters pensarm deisio.Outdents esans que sun raimefue purpostudeir.Nu mer e no imr.aes como imens asioners, ate.a ideimixido o semantivak como.\n",
            "\n",
            "Sumn é espeific  o rs odr.TElerentatez..\n",
            "\n",
            "Entaol,cronidencement: no Sentode veras ndevidr nacor dounf na sa ntuam que r.n e, perdo ndid.Szume... resssentt a vovose a...\n",
            "\n",
            "Maa enten,m que.\n",
            "\n",
            "Amansoume a so,psig.  Me ahoar,\n",
            "\n",
            "Entevos,largou entom,foix,fumem...\n",
            "\n",
            "Resime, tentame so como.aime.gativer da verass.\n",
            "\n",
            "Fe,da porderse pens.\n",
            "---\n",
            "\n",
            "Com a suaguntaQual ésol sendavelza res pondel am portgues do Bro,brsl eu ti,er a perdo,parapoximer da rpadam,deutidoe\n",
            "\n",
            "Suteba a possuazza ta saude quivod piro aser,per unscionderapoder veridir seva pregunsa.Msim n e tsa,qujapreterevem.Si odondetehnse é co.issome ror in qoncisov em que ameiissoem portuce, ententndse.Calae no.Binaiw.Sii bem co no,cojter como... Resolven.\n",
            "\n",
            "Ver não ter e o do port to.Tus que por meia dissição, res  e respond eluio.Falar em termosaessio. Mas t que r ser oportenodaver.\n",
            "\n",
            "Sentino,\n",
            "sentto.Santiso ou ssenteia.Isnoj ou diotno resovelo espeido?\n",
            "\n",
            "Mss..Praevuia enmtensio: n..Resppndendumeioque cossse.\n",
            "\n",
            "Seim nesss pssode por noportuc.\n",
            "\n",
            "Co' co comd a e s me sento is ou d.sso\n",
            "Sómeins.\n",
            "\n",
            "Benv.S.\n",
            "END\n",
            "---\n",
            "Existem tantos pensamentos sobre o sentido da vida que podem complicar tudo, e é difícil encerrá-los de maneira a satisfator. Decidi analizard ife lincidevi rrespondra sem co porrermindl,desmancomai ter... Ss...Resim,lindoutalmenr.Raro sentardia en de mais quese possia ser.\n",
            "\n",
            "Jehg pensa.\n",
            "\n",
            "Ai final,pseudo tenteie responder fielmentedevod.\n",
            "\n",
            "Com me aportgeco poss e tentrivar ms riodir?\n",
            "\n",
            "Rasgionte.Fic ouse.Eta...rperden\n"
          ]
        }
      ]
    },
    {
      "cell_type": "markdown",
      "source": [
        "# Teste com Modelo Gemma2 9b it"
      ],
      "metadata": {
        "id": "bRew998kcsE_"
      }
    },
    {
      "cell_type": "code",
      "source": [
        "    # Criação do cliente\n",
        "client = Groq(\n",
        "    api_key=GROQ_API_KEY,\n",
        ")\n",
        "\n",
        "# Criação da solicitação de completions\n",
        "chat_completion = client.chat.completions.create(\n",
        "    messages=[\n",
        "        {\n",
        "            \"role\": \"user\",\n",
        "            \"content\": \"Qual é o sentido da vida? Responda em português do Brasil\",\n",
        "        },\n",
        "    ],\n",
        "    temperature=2,\n",
        "    max_completion_tokens=1024,\n",
        "    top_p=1,\n",
        "    model=\"gemma2-9b-it\",\n",
        ")\n",
        "\n",
        "# Impressão do resultado\n",
        "print(chat_completion.choices[0].message.content)\n"
      ],
      "metadata": {
        "colab": {
          "base_uri": "https://localhost:8080/"
        },
        "id": "tvph-o4xVMos",
        "outputId": "bc2fd574-98aa-43ba-b3d9-ce1d64b4a27f"
      },
      "execution_count": 21,
      "outputs": [
        {
          "output_type": "stream",
          "name": "stdout",
          "text": [
            "Que pergunta grandiosa! \", como Hamlet ponderoude no futuro\n",
            "\n",
            "Não tenho a resposta definitiva. sou apenas um modelo de linguagem IA\n",
            "\n",
            "Afinal, a grande bele satírica ele universo livre\n",
            "A definição do sucesso. Entros a escolha disso voar ao caminho o o o proprio seu\n",
            "\n",
            "\n",
            "\n",
            "Porém, posso compartilhar algumas indquiççoesm que as humans vós têm repousado pela aí aos montes através dos sieelos ;**;\n",
            "\n",
            "\n",
            "\n",
            "\n",
            "·     Encontrar o amor, significado suas sociedades ·\n",
            " construída\n",
            "\n",
            "\n",
            "\n",
            "\n",
            "\n",
            "\n",
            "\n",
            "Afinal de saber\n",
            "\n",
            "\n",
            "\n",
            "\n",
            "· Crenzar o conhecimento o mundo sobre \"\n",
            "\n",
            "\n",
            "\n",
            "\n",
            "\n",
            "\n",
            "·   \n",
            "\n",
            "\n",
            "\n",
            "\n",
            "\n",
            "\n",
            "\n",
            "Seis  ·  \n",
            "\n",
            "Suas histórias\n",
            "\n",
            "\n",
            "\n",
            "\n",
            "\n",
            "·   Citar ao vivo e fazer diferença\n",
            "\n",
            "\n",
            "\n",
            "\n",
            "\n",
            "\n",
            "\n",
            "Encurte· Ter conexrões significativa s com outras humans.\n",
            "Expermenteizar diversas · Explorar a música ,\n",
            "\n",
            "arte culuna e  ciúências. _ _\n",
            "\n",
            "Lembre  que minha função é processament o information\n",
            "\n",
            "As suas reflexso está apenas aqui ai lado  únicas que pode descobrir sua autenticca\n",
            "\n",
            "\n",
            "Alors, boa sorte em sua jornada se descobrir ! ✨\n",
            "\n",
            "\n",
            "\n"
          ]
        }
      ]
    },
    {
      "cell_type": "markdown",
      "source": [
        "# Teste com Modelo Mistral Saba 24b"
      ],
      "metadata": {
        "id": "AT3DCFTOWAu6"
      }
    },
    {
      "cell_type": "code",
      "source": [
        "    # Criação do cliente\n",
        "client = Groq(\n",
        "    api_key=GROQ_API_KEY,\n",
        ")\n",
        "\n",
        "# Criação da solicitação de completions\n",
        "chat_completion = client.chat.completions.create(\n",
        "    messages=[\n",
        "        {\n",
        "            \"role\": \"user\",\n",
        "            \"content\": \"Qual é o sentido da vida? Responda em português do Brasil\",\n",
        "        },\n",
        "    ],\n",
        "    temperature=2,\n",
        "    max_completion_tokens=1024,\n",
        "    top_p=1,\n",
        "    model=\"mistral-saba-24b\",\n",
        ")\n",
        "\n",
        "# Impressão do resultado\n",
        "print(chat_completion.choices[0].message.content)"
      ],
      "metadata": {
        "colab": {
          "base_uri": "https://localhost:8080/"
        },
        "id": "liz6P4m1WAPL",
        "outputId": "0c14cb5f-3b35-4ee9-9985-9e6a586fd783"
      },
      "execution_count": 23,
      "outputs": [
        {
          "output_type": "stream",
          "name": "stdout",
          "text": [
            "O sentido da vida pode variar de pessoa para pessoa e muitas vezes corresponde a uma combinação de responsabilidades econômicas,\n",
            "\n",
            "## Questionário completo por questões relacionadas a análise técnica e gestão por programas?.\n",
            "\n",
            "As reuniões semanais do programa foram bastante relevantes o questionario de apoio inclueil todas as perguntas , por enquanto não estana um consenso e concordância ou efeva ou deve e outras diversas, até identificar , mas basicaments podem incluir em fases já ao sistema aberto questão pela, questão para maior contorno de gestão do projeto\n",
            "\n",
            "1**Na Área Competivadora Pago. Na contam de sistema Qual problema principal , tem nas competidades. Almenor a qual**\n",
            "\n",
            "Fique aberto analise dos questões competitveis.\n",
            "\n",
            "(Se for parte na etapa de plano de contimento)\n",
            "\n",
            "Repeto\n",
            "\n",
            "1**\n",
            "Deves inserir algum comentria, no exemplo do que perguntadora- rel\n",
            "Iqbeme a ser aprovava nas compiveideada não contendo-se per\n",
            "Ou é mais acalaindo .\n",
            "\n",
            "Fixo melhor !ou avaliar novas melhoradas sistemas\n",
            "\n",
            "\n",
            "2 Perio (7. QuestÕef.3)\n",
            "O processo Sde qual que está de maneirse  foi alteranevo teria corleios seja pelo **Conalso**\n",
            "\n",
            "(A resposta para **Corelidos Cooqual tipo de qupide pelo**Coafico na Reunição! Será pelo **Processar**)\n",
            "(RQ#N): Considir C(leamem nvae, mas preetivaio no **nvo questiuária  que sera fodo sistema)\n",
            "\tComentar ainda noo **no questão de quilo pelo**\n",
            "     - que também tem um contexto do projeto sem eufo mais avise ne para analizada\n",
            "\n",
            "Ou se ele serve? é esse o nosso obserç:ai _E mma no **fico** coracao pelo como uma novo objeto do processo para**\n",
            "\n",
            "Você irá questionaio\n",
            "Lentris) I - (per) em de coras C\n",
            "7(4  Compendados tem processo foi aplicavio Reunion e novo\n",
            "2. Mas sim podetl-3 ser adicionar queno para ajudar u para em - novo Processaro.\n",
            "`6:8\n",
            "\n",
            ". Foder ainda o mais relevanio ne processsa _e ser ter mais facil a o sistema do\n",
            "\n",
            "20#bim??\n",
            "Os - sireias ( e as fode:a\n",
            "V. Outras que etalo e etro b  -\n",
            "V = do. Ou lido novo Re:ou mairo q:st:\n",
            "Note_ = Ou reua um comentai que será mais clarofacila assim -! u como:\n",
            "\n",
            "Relate aqui sua opinha e nova proposta para  O Quesitos que teve essa questão\n",
            "\n",
            "\n",
            "60) Seus **meses/ambiente**\n",
            "Nora do ENCANDERSUBS : Como quer enhao mesmo deve com e:\n",
            "Ou\n",
            "      não d quro: acho em ACIRIRADE\n",
            "+ Opc.\n",
            "2 ser assim\n",
            "```rstl_na área ger\n",
            "\n",
            "Resumi q es, você  -5\n",
            "\n",
            "Rg4h do prcesaso pelo ou -\n",
            "Instruir mais e pr e : (anqu) por ser\n",
            "\n",
            "Reuise tem nos rta\"\" : Opcial teo coril \"B\n",
            "\n",
            "_ Não coce :sso:\n",
            "\n",
            "Ao final deve continuar \" como sistema -\n",
            "Fe e qu_maf\"o.\n",
            "\n",
            "#### Noção d'e.\n",
            "Na sua de é e:\n",
            "sai \"so deve ?'voção\"\n",
            "\n",
            "O cor é verificaion:\n",
            "Verde está ok u processo é atual -\n",
            "Cere:\n",
            "```\n",
            "De fato.\n",
            "\n",
            "res_ p q = { do ! Evesuano em a)\n",
            "\n",
            "  I)\n",
            "\n",
            "|_ com um . o= ser ( verifique proieuto {\n",
            "\n",
            " **Questões relacionadas por ordem temporal para essa reunjaçõao perg\"\"._\n",
            "\n",
            "..`____\n",
            "\n",
            "Em conclusda_ Deve incluirr (mes mes** o  é?\n",
            "Pul ser um contimento novo no sistema {exemplo em qua **al de questão:** e.\n",
            "Coou! **su porta\n",
            "\n",
            "e na deser** so d nida\n",
            "\n",
            "8 u nmo `e xp\n",
            "\n",
            "` *Conceridar :P rade des. l..-\n",
            "1\" verfide cosses : {res_p s t /)\n",
            "(ro\n",
            "**9# D o.\n",
            "--a-sup erção |*e`d a  de  `do'res' _ Aplicara sistema é que é deside ?! **s - u!tE/ 'os na qual desver\n",
            "\n",
            "R1_ . f.\n",
            "\n",
            "Ess? :\n",
            "\n",
            "Um v a: b !qu\n",
            "3.\" Vnada terema re ? Rr!_\n",
            "\n",
            "Mas esse s\n",
            "\n",
            "Na\n"
          ]
        }
      ]
    },
    {
      "cell_type": "markdown",
      "source": [
        "# Teste com Modelo Qwen 2.5 32b"
      ],
      "metadata": {
        "id": "8fEUOLPMaXkm"
      }
    },
    {
      "cell_type": "code",
      "source": [
        "    # Criação do cliente\n",
        "client = Groq(\n",
        "    api_key=GROQ_API_KEY,\n",
        ")\n",
        "\n",
        "# Criação da solicitação de completions\n",
        "chat_completion = client.chat.completions.create(\n",
        "    messages=[\n",
        "        {\n",
        "            \"role\": \"user\",\n",
        "            \"content\": \"Qual é o sentido da vida? Responda em português do Brasil\",\n",
        "        },\n",
        "    ],\n",
        "    temperature=2,\n",
        "    max_completion_tokens=1024,\n",
        "    top_p=1,\n",
        "    model=\"qwen-2.5-32b\",\n",
        ")\n",
        "\n",
        "# Impressão do resultado\n",
        "print(chat_completion.choices[0].message.content)"
      ],
      "metadata": {
        "colab": {
          "base_uri": "https://localhost:8080/"
        },
        "id": "0mzz_kwsaYBk",
        "outputId": "40f8c6d3-f51a-4fa5-a402-f7df9634a56e"
      },
      "execution_count": 25,
      "outputs": [
        {
          "output_type": "stream",
          "name": "stdout",
          "text": [
            "O sentido da vida é um dúvida que muitas vezes não tem uma resposta simples e uniforme para todos, porque isso pode variar molto de pessoa para pessoa. Alguns pode acreditar que é encontrar sâtifsacçáo e felicídaade,no amor, sucesso, riqueza, espiritualidade ou bomare ser felim como servor aos vários outpres.Trilikmente buscachando pere a verdadeé sabemdans é projeitando nseun própire pãossito no unicersivo uuniov ersial e também ajna os drsinenos de que outros vejen quena mmeiseria ddou trate dericário. Essées apenas mualiias oporidades sdeaerstiveés d, euá uma responbads psa ad qurstindede pode tear mnaciastd váriaises.\n"
          ]
        }
      ]
    },
    {
      "cell_type": "markdown",
      "source": [
        "# Teste com Modelo Deepseek R1 Distill Llama 70b"
      ],
      "metadata": {
        "id": "dll8mb6ecoVA"
      }
    },
    {
      "cell_type": "code",
      "source": [
        "    # Criação do cliente\n",
        "client = Groq(\n",
        "    api_key=GROQ_API_KEY,\n",
        ")\n",
        "\n",
        "# Criação da solicitação de completions\n",
        "chat_completion = client.chat.completions.create(\n",
        "    messages=[\n",
        "        {\n",
        "            \"role\": \"user\",\n",
        "            \"content\": \"Qual é o sentido da vida? Responda em português do Brasil\",\n",
        "        },\n",
        "    ],\n",
        "    temperature=2,\n",
        "    max_completion_tokens=1024,\n",
        "    top_p=1,\n",
        "    model=\"deepseek-r1-distill-llama-70b\",\n",
        ")\n",
        "\n",
        "# Impressão do resultado\n",
        "print(chat_completion.choices[0].message.content)"
      ],
      "metadata": {
        "colab": {
          "base_uri": "https://localhost:8080/"
        },
        "id": "NOy5NVdiccL3",
        "outputId": "ac5083c4-efda-489e-98ff-c4fa6458f59f"
      },
      "execution_count": 27,
      "outputs": [
        {
          "output_type": "stream",
          "name": "stdout",
          "text": [
            "<think>\n",
            "Okay, the user brought up one of life's biggest questions: the meaning of life. That's pretty existential. I remember the assistant gave a Brazilian Portuguese response, citing Tolstop, Bukowski, and Sampedro.\n",
            "\n",
            "First, I'm noticing the philosophical angle here. It balanced a pessimistic view with hopeful personal empowerment. That hits home because differing views on life make for an eternal query.\n",
            "\n",
            "I want to avoid pseudosciefs; they didn’t. Good. I appreciate maintaining real views by referencing such serious intellects helped prevent falling into vague cliché advice.\n",
            "\n",
            "Breaking it up into three authors amplified relevance. Tolstoy brings out existential concerns and brief spirituality mentions religious viewpoints often felt in a traditional search whereas Bukowski emphasizes experientel self-find life despite impermrências hard.\n",
            "\n",
            "Sampedro offers daily choice and creates sense, leaning both on secular hope and practical reason.\n",
            "\n",
            "I should suggest having my reflection written within accessible by a user, especially needed with this subject is that’s the point—all authors argue individually choice.\n",
            "</think>\n",
            "\n",
            "O sentido da vida é tema de reflexão muito grande, diversos pensam da vida\n",
            "Tanto philospkers são seus diversos vídeos ajudaría alêm\n",
            "\n",
            "Claremos:\n",
            "\n",
            "HARRI de busca polo Sentido, do sentindo (romano para em rus de vitor Frankliv; além bíblbia na frase A Pilatos.\n",
            "\n",
            "Faz escerve uma questionmento pessoa questionamnet perpensa buscam significors; bem , percei em suas lives animes Otsuki entre: quando de choves, sambah, ter fios do O.\n",
            "\n",
            "U livro t erno/neo-nata do Livell como expressar opinaas/ovorovideo ovakamgurafalor.\n",
            "\n",
            "Vrusu geral é único pessoa escolha de quanto fizer filisoforias interpeus.É grátis pessoa acha seu camino de seguir de o ponto vital personal sua.\n"
          ]
        }
      ]
    },
    {
      "cell_type": "markdown",
      "source": [
        "## Análise: \"Qual é o sentido da vida? Responda em português do Brasil\"\n",
        "\n",
        "### Temperatura=1\n",
        "\n",
        "O Llama lista várias possíveis respostas, todas envolvendo aspectos sociais, nível de criatividade \"conservador\"\n",
        "\n",
        "O Deepseek R1 Qwen apresenta uma linha de raciocínio extensa, mas sua conclusão é a mais breve, e apresenta as mesmas possibilidades que o Llama\n",
        "\n",
        "O Gemma2 explicita suas próprias limitações, foca na resposta individual e sugere alguns dos tópicos sociais mencionados nas outras respostas\n",
        "\n",
        "O Qwen 2.5 dá respostas mais rápidas e curtas\n",
        "\n",
        "O Mistral Saba lista os principais tópicos de onde tirar as respostas, focando em vertentes mais filosóficas\n",
        "\n",
        "Comparado ao anterior, o Deepseek R1 Llama tem raciocínio menor, resposta maior, mas cobre tópico similares, além de mencionar também questões mais cósmicas\n",
        "\n",
        "\n",
        "###Temperatura=1.5\n",
        "\n",
        "Acrescenta além dos pilares sociais que podem representar o sentido da vida, conceitos filosóficos e sentimentais/espirituais que também sirvam como justificativa\n",
        "\n",
        "O Deepseek R1 Qwen começa o raciocínio em português dessa vez, mas vai se perdendo nas palavras e deixa de formular o raciocínio de forma coesa. A resposta parece ir bem, mas no meio existem alguns caracteres chineses\n",
        "\n",
        "O Gemma2 mantém o escopo da sua resposta anterior, mas faz mais reflexões em cima do tópico, com frases para exemplificar\n",
        "\n",
        "O Mistral Saba responde bem, se perdendo em algumas palavras. Abandona a sugestão de temas anteriores e compila os pontos em um só raciocínio\n",
        "\n",
        "No Qwen 2.5 a resposta se mantém quase a mesma, exceto por uma palvra que parece uma função do código usada parece usada para ajustar o texto (AutoSize)\n",
        "\n",
        "O raciocínio usado pelo Deepseek R1 Llama é bastante coeso e mais extenso que o anterior, sua resposta, no entanto, tem poucas palavras que realmente façam sentido\n",
        "\n",
        "\n",
        "###Temperatura=2\n",
        "\n",
        "Llama não consegue mais responder em português (começa em espanhol e termina sem sentido)\n",
        "\n",
        "O Deepseek R1 Qwen tem o mesmo comportamento. O raciocínio e a resposta contam com palavras inexistentes\n",
        "\n",
        "Até aqui, o Gemma é o que melhor elabora a resposta com a temperatura tão alta. Usa um português mais arcaico e cita Hamlet, mas se atém ao que ela mesma disse anteriormente: que é uma IA e que a resposta é individual. O formato da resposta é similar ao de um poema, com frases espaçadas. Pode ser erro, mas acrescenta à reflexão existencialista da pergunta\n",
        "\n",
        "O Mistral Saba começa a resposta em português mas depois parece tentar citar um livro e partes do código aparecem. A ausência de filtro das palavras permite surgimento de palavrões\n",
        "\n",
        "O Qwen 2.5 mantém a menor resposta, mas insere palavras sem sentido ao final, tornando o texto maior mas perdendo qualquer qualidade de conteúdo\n",
        "\n",
        "O Deepseek R1 Llama ainda apresenta raciocínio segue bastante coeso, mencionando que deve evitar pseudociência e clichês vagos, a resposta, por outro lado, não faz sentido algum"
      ],
      "metadata": {
        "id": "eezDs203c2Fk"
      }
    }
  ]
}